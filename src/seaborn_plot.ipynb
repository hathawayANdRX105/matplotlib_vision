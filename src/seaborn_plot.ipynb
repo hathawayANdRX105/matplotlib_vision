{
 "cells": [
  {
   "cell_type": "code",
   "execution_count": 1,
   "metadata": {
    "pycharm": {
     "name": "#%%\n"
    }
   },
   "outputs": [],
   "source": [
    "# 基本设置 , 导入库\n",
    "import matplotlib.pyplot as plt\n",
    "import pandas as pd\n",
    "import seaborn as sns\n",
    "import numpy as np\n",
    "\n",
    "from util.note_parser import *\n",
    "from util.parser import get_data\n",
    "\n",
    "sns.set_style('whitegrid', {'font.sans-serif': ['simhei', 'Arial']})\n"
   ]
  },
  {
   "cell_type": "code",
   "execution_count": 2,
   "outputs": [],
   "source": [
    "# seaborn 使用的 相关资料路径 api\n",
    "# def get_file_path(file_name):\n",
    "#     import os\n",
    "#     project_path = os.path.dirname(os.getcwd())\n",
    "#     note_path = r\"{}\\data\\seaborn_data\\{}\".format(project_path, file_name)\n",
    "#\n",
    "#     return note_path\n"
   ],
   "metadata": {
    "collapsed": false,
    "pycharm": {
     "name": "#%%\n"
    }
   }
  },
  {
   "cell_type": "code",
   "execution_count": 2,
   "outputs": [
    {
     "name": "stderr",
     "output_type": "stream",
     "text": [
      "Building prefix dict from the default dictionary ...\n",
      "Loading model from cache C:\\Users\\ADMINI~1\\AppData\\Local\\Temp\\jieba.cache\n"
     ]
    },
    {
     "name": "stdout",
     "output_type": "stream",
     "text": [
      "C:\\Users\\Administrator\\projects\\python\\matplotlib_vision\\data\\seaborn_data\\volume1.txt\n"
     ]
    },
    {
     "name": "stderr",
     "output_type": "stream",
     "text": [
      "Loading model cost 0.669 seconds.\n",
      "Prefix dict has been built successfully.\n"
     ]
    },
    {
     "name": "stdout",
     "output_type": "stream",
     "text": [
      "C:\\Users\\Administrator\\projects\\python\\matplotlib_vision\\data\\seaborn_data\\volume2.txt\n",
      "volume1 chapter count: 29\n",
      "volume2 chapter count: 45\n",
      "ok! csv_file => C:\\Users\\Administrator\\projects\\python\\matplotlib_vision\\data\\seaborn_data\\volume1_discrete_chapter_word.csv\n",
      "ok! csv_file => C:\\Users\\Administrator\\projects\\python\\matplotlib_vision\\data\\seaborn_data\\volume2_discrete_chapter_word.csv\n"
     ]
    }
   ],
   "source": [
    "volume1_file_path = get_file_path('volume1.txt')\n",
    "volume2_file_path = get_file_path('volume2.txt')\n",
    "\n",
    "# 获取 第一, 二卷小说 以每章划分为单位的 list\n",
    "volume1_chapter_list = get_chapter_list(volume1_file_path)\n",
    "volume2_chapter_list = get_chapter_list(volume2_file_path)\n",
    "\n",
    "# 打印每卷 章节数\n",
    "print(\"volume1 chapter count: {}\".format(len(volume1_chapter_list)))\n",
    "print(\"volume2 chapter count: {}\".format(len(volume2_chapter_list)))\n",
    "\n",
    "# 设置 保存csv 路径以及文件名\n",
    "volume1_chapter_csv_file_path = get_file_path('volume1_discrete_chapter_word.csv')\n",
    "volume2_chapter_csv_file_path = get_file_path('volume2_discrete_chapter_word.csv')\n",
    "\n",
    "# 保存\n",
    "save_chapter_count_to_csv_file(volume1_chapter_list, volume1_chapter_csv_file_path)\n",
    "save_chapter_count_to_csv_file(volume2_chapter_list, volume2_chapter_csv_file_path)\n"
   ],
   "metadata": {
    "collapsed": false,
    "pycharm": {
     "name": "#%%\n"
    }
   }
  },
  {
   "cell_type": "code",
   "execution_count": 3,
   "outputs": [
    {
     "name": "stdout",
     "output_type": "stream",
     "text": [
      "ok! csv_file => C:\\Users\\Administrator\\projects\\python\\matplotlib_vision\\data\\seaborn_data\\volume1_split_word.csv\n",
      "ok! csv_file => C:\\Users\\Administrator\\projects\\python\\matplotlib_vision\\data\\seaborn_data\\volume2_split_word.csv\n"
     ]
    }
   ],
   "source": [
    "# 保存 第一, 二卷 分词统计 (以卷为单位) 为csv文件\n",
    "\n",
    "volume1_count_csv_file_path = get_file_path(\"volume1_split_word.csv\")\n",
    "volume2_count_csv_file_path = get_file_path(\"volume2_split_word.csv\")\n",
    "save_volume_count_to_csv_file(volume1_file_path, volume1_count_csv_file_path)\n",
    "save_volume_count_to_csv_file(volume2_file_path, volume2_count_csv_file_path)\n"
   ],
   "metadata": {
    "collapsed": false,
    "pycharm": {
     "name": "#%%\n"
    }
   }
  },
  {
   "cell_type": "code",
   "execution_count": 5,
   "outputs": [],
   "source": [
    "\n",
    "\n",
    "df1_chapter_word = pd.read_csv(volume1_chapter_csv_file_path)\n",
    "df2_chapter_word = pd.read_csv(volume2_chapter_csv_file_path)\n",
    "\n",
    "df1_volume = pd.read_csv(volume1_count_csv_file_path)\n",
    "df2_volume = pd.read_csv(volume2_count_csv_file_path)\n",
    "\n"
   ],
   "metadata": {
    "collapsed": false,
    "pycharm": {
     "name": "#%%\n"
    }
   }
  },
  {
   "cell_type": "code",
   "execution_count": 6,
   "outputs": [
    {
     "name": "stdout",
     "output_type": "stream",
     "text": [
      "chapter    1     2     3     4     5     6     7     8     9     10  ...  \\\n",
      "word                                                                 ...   \n",
      "侯瑞        0.0   0.0   0.0   0.0   0.0   0.0   0.0   0.0   0.0   0.0  ...   \n",
      "大娘        0.0   0.0   0.0   0.0   0.0   0.0  14.0   2.0  30.0   1.0  ...   \n",
      "姑母        0.0   1.0   1.0   0.0   0.0  19.0  50.0  29.0  20.0   2.0  ...   \n",
      "徐辉        9.0   0.0   1.0   0.0   0.0   0.0   0.0   0.0   0.0   0.0  ...   \n",
      "晓燕        2.0   0.0   0.0   0.0   0.0   0.0   0.0   0.0   0.0   0.0  ...   \n",
      "江华       39.0  59.0  22.0   8.0   2.0   5.0   2.0   1.0   0.0   0.0  ...   \n",
      "道静       29.0  50.0   4.0  24.0  23.0  30.0  54.0  45.0  31.0  26.0  ...   \n",
      "郑瑾        0.0   0.0   0.0   0.0   0.0   0.0   0.0   0.0   0.0   0.0  ...   \n",
      "\n",
      "chapter    36    37   38    39    40    41    42   43   44    45  \n",
      "word                                                              \n",
      "侯瑞       11.0   0.0  8.0   1.0   0.0   4.0   0.0  1.0  0.0   5.0  \n",
      "大娘        0.0   0.0  0.0   0.0   0.0   0.0   0.0  0.0  0.0   0.0  \n",
      "姑母        0.0   0.0  0.0   0.0   0.0   0.0   0.0  0.0  0.0   1.0  \n",
      "徐辉       11.0   0.0  0.0   0.0   0.0  18.0   1.0  0.0  0.0   2.0  \n",
      "晓燕        2.0  21.0  1.0  32.0  17.0  13.0   0.0  1.0  5.0   3.0  \n",
      "江华        0.0   0.0  0.0  25.0   2.0   4.0  26.0  0.0  0.0   5.0  \n",
      "道静       14.0   8.0  3.0  17.0   1.0  22.0  18.0  8.0  0.0  23.0  \n",
      "郑瑾        0.0   0.0  0.0   0.0   0.0   0.0   0.0  0.0  0.0   0.0  \n",
      "\n",
      "[8 rows x 45 columns]\n"
     ]
    }
   ],
   "source": [
    "# plot1 关于 第二卷主要人物在每个章节出现的次数统计, 以热量图显示展现\n",
    "volume2_name_list = ['道静', '江华', '郑瑾', '晓燕', '姑母', '侯瑞', '徐辉', '大娘', '李奎英', ]\n",
    "sieve = df2_chapter_word.loc[df2_chapter_word['word'].isin(volume2_name_list)]\n",
    "\n",
    "sieve = sieve.pivot(index=\"word\", columns=\"chapter\", values=\"count\")\n",
    "\n",
    "sieve = sieve.replace(np.nan, 0)\n",
    "\n",
    "print(sieve)\n",
    "\n"
   ],
   "metadata": {
    "collapsed": false,
    "pycharm": {
     "name": "#%%\n"
    }
   }
  },
  {
   "cell_type": "code",
   "execution_count": 7,
   "outputs": [
    {
     "data": {
      "text/plain": "<AxesSubplot:xlabel='chapter', ylabel='word'>"
     },
     "execution_count": 7,
     "metadata": {},
     "output_type": "execute_result"
    },
    {
     "data": {
      "text/plain": "<Figure size 1296x360 with 2 Axes>",
      "image/png": "[encoded data removed]"
     },
     "metadata": {},
     "output_type": "display_data"
    }
   ],
   "source": [
    "f, ax = plt.subplots(figsize=(18, 5))\n",
    "sns.heatmap(sieve, annot=True, linewidths=.5, ax=ax)\n"
   ],
   "metadata": {
    "collapsed": false,
    "pycharm": {
     "name": "#%%\n"
    }
   }
  },
  {
   "cell_type": "code",
   "execution_count": 8,
   "outputs": [],
   "source": [
    "volume1_name_list = [ '道静', '永泽', '戴愉', '徐宁', '嘉川', '白莉苹', '晓燕']\n",
    "\n",
    "character_name_list = ['道静', '晓燕', '']\n"
   ],
   "metadata": {
    "collapsed": false,
    "pycharm": {
     "name": "#%%\n"
    }
   }
  },
  {
   "cell_type": "code",
   "execution_count": 9,
   "outputs": [
    {
     "name": "stdout",
     "output_type": "stream",
     "text": [
      "主人白莉苹美丽俊俏笑脸灵活黑亮眼睛特别引人注意目标\n",
      "['主人', '白莉苹', '美丽', '俊俏', '笑脸', '灵活', '黑亮', '眼睛', '特别', '引人注意', '目标']\n"
     ]
    }
   ],
   "source": [
    "# python3\n",
    "\n",
    "import  jieba\n",
    "str = \"主人白莉苹的美丽俊俏的笑脸和灵活的黑亮的眼睛是特别引人注意的目标\"\n",
    "\n",
    "result = ''\n",
    "word_list = jieba.lcut(str)   # 分词后返回一个列表  jieba.cut(）   返回的是一个迭代器\n",
    "def get_stopword_list(file):\n",
    "    with open(file, 'r', encoding='utf-8') as f:    #\n",
    "        stopword_list = [word.strip('\\n') for word in f.readlines()]\n",
    "    return stopword_list\n",
    "\n",
    "stopword_list = get_stopword_list(get_file_path('hit_stopwords.txt'))\n",
    "\n",
    "for w in word_list:\n",
    "    if w not in stopword_list:\n",
    "        result += w\n",
    "\n",
    "print(result)\n",
    "\n",
    "result = list(jieba.cut(result, cut_all=False))\n",
    "print(result)\n",
    "\n"
   ],
   "metadata": {
    "collapsed": false,
    "pycharm": {
     "name": "#%%\n"
    }
   }
  },
  {
   "cell_type": "markdown",
   "source": [],
   "metadata": {
    "collapsed": false
   }
  },
  {
   "cell_type": "code",
   "execution_count": 10,
   "outputs": [
    {
     "name": "stdout",
     "output_type": "stream",
     "text": [
      "C:\\Users\\Administrator\\projects\\python\\matplotlib_vision\\data\\seaborn_data\\hit_stopwords.txt\n"
     ]
    }
   ],
   "source": [
    "from util.note_parser  import  *\n",
    "print(get_file_path('hit_stopwords.txt'))"
   ],
   "metadata": {
    "collapsed": false,
    "pycharm": {
     "name": "#%%\n"
    }
   }
  },
  {
   "cell_type": "code",
   "execution_count": null,
   "outputs": [],
   "source": [],
   "metadata": {
    "collapsed": false,
    "pycharm": {
     "name": "#%%\n"
    }
   }
  },
  {
   "cell_type": "code",
   "execution_count": 11,
   "outputs": [],
   "source": [],
   "metadata": {
    "collapsed": false,
    "pycharm": {
     "name": "#%%\n"
    }
   }
  },
  {
   "cell_type": "code",
   "execution_count": 11,
   "outputs": [],
   "source": [],
   "metadata": {
    "collapsed": false,
    "pycharm": {
     "name": "#%%\n"
    }
   }
  }
 ],
 "metadata": {
  "interpreter": {
   "hash": "f43c5a9a4b2b41a72a58765cb892fcb8f9cdee9fa95e3ce0275b0f6b8ab71b31"
  },
  "kernelspec": {
   "display_name": "Python 3 (ipykernel)",
   "language": "python",
   "name": "python3"
  },
  "language_info": {
   "codemirror_mode": {
    "name": "ipython",
    "version": 3
   },
   "file_extension": ".py",
   "mimetype": "text/x-python",
   "name": "python",
   "nbconvert_exporter": "python",
   "pygments_lexer": "ipython3",
   "version": "3.10.2"
  }
 },
 "nbformat": 4,
 "nbformat_minor": 2
}