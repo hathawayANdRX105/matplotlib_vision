{
 "cells": [
  {
   "cell_type": "code",
   "execution_count": 9,
   "metadata": {
    "pycharm": {
     "name": "#%%\n"
    }
   },
   "outputs": [],
   "source": [
    "import seaborn as sns\n",
    "import numpy as np\n",
    "import matplotlib.pyplot as plt\n",
    "\n",
    "sns.set(context=\"notebook\", style=\"darkgrid\", palette=\"deep\", font='sans-serif', font_scale=1,\\\n",
    "    color_codes=True, rc=None)"
   ]
  }
 ],
 "metadata": {
  "interpreter": {
   "hash": "f43c5a9a4b2b41a72a58765cb892fcb8f9cdee9fa95e3ce0275b0f6b8ab71b31"
  },
  "kernelspec": {
   "display_name": "Python 3 (ipykernel)",
   "language": "python",
   "name": "python3"
  },
  "language_info": {
   "codemirror_mode": {
    "name": "ipython",
    "version": 3
   },
   "file_extension": ".py",
   "mimetype": "text/x-python",
   "name": "python",
   "nbconvert_exporter": "python",
   "pygments_lexer": "ipython3",
   "version": "3.10.2"
  }
 },
 "nbformat": 4,
 "nbformat_minor": 2
}